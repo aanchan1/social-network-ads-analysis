{
  "nbformat": 4,
  "nbformat_minor": 0,
  "metadata": {
    "colab": {
      "name": "Copy of SVM_Assignment14.ipynb",
      "provenance": [],
      "collapsed_sections": [],
      "include_colab_link": true
    },
    "kernelspec": {
      "name": "python3",
      "display_name": "Python 3"
    },
    "language_info": {
      "name": "python"
    }
  },
  "cells": [
    {
      "cell_type": "markdown",
      "metadata": {
        "id": "view-in-github",
        "colab_type": "text"
      },
      "source": [
        "<a href=\"https://colab.research.google.com/github/aanchan1/social-network-ads-analysis/blob/main/SVM.ipynb\" target=\"_parent\"><img src=\"https://colab.research.google.com/assets/colab-badge.svg\" alt=\"Open In Colab\"/></a>"
      ]
    },
    {
      "cell_type": "code",
      "metadata": {
        "id": "OTEpzVunhgga"
      },
      "source": [
        "#Social_Network_Ads.csv"
      ],
      "execution_count": null,
      "outputs": []
    },
    {
      "cell_type": "markdown",
      "metadata": {
        "id": "Qa5Bo_A9h3kB"
      },
      "source": [
        "**Import libraries**"
      ]
    },
    {
      "cell_type": "code",
      "metadata": {
        "id": "pFIDCPu9h1DO"
      },
      "source": [
        "import numpy as np \n",
        "import pandas as pd \n",
        "import matplotlib.pyplot as plt"
      ],
      "execution_count": null,
      "outputs": []
    },
    {
      "cell_type": "markdown",
      "metadata": {
        "id": "L9CQXJjkiKRq"
      },
      "source": [
        "**Importing the dataset**"
      ]
    },
    {
      "cell_type": "code",
      "metadata": {
        "id": "ZNiJnC7hh1HC",
        "colab": {
          "base_uri": "https://localhost:8080/",
          "height": 206
        },
        "outputId": "8bfb8c77-a560-42d4-da86-62bda707800f"
      },
      "source": [
        "df=pd.read_csv('Social_Network_Ads.csv')\n",
        "df.head()"
      ],
      "execution_count": null,
      "outputs": [
        {
          "output_type": "execute_result",
          "data": {
            "text/plain": [
              "    User ID  Gender  Age  EstimatedSalary  Purchased\n",
              "0  15624510    Male   19            19000          0\n",
              "1  15810944    Male   35            20000          0\n",
              "2  15668575  Female   26            43000          0\n",
              "3  15603246  Female   27            57000          0\n",
              "4  15804002    Male   19            76000          0"
            ],
            "text/html": [
              "\n",
              "  <div id=\"df-f15359cf-b1ec-4a0c-9790-27daa363a5d8\">\n",
              "    <div class=\"colab-df-container\">\n",
              "      <div>\n",
              "<style scoped>\n",
              "    .dataframe tbody tr th:only-of-type {\n",
              "        vertical-align: middle;\n",
              "    }\n",
              "\n",
              "    .dataframe tbody tr th {\n",
              "        vertical-align: top;\n",
              "    }\n",
              "\n",
              "    .dataframe thead th {\n",
              "        text-align: right;\n",
              "    }\n",
              "</style>\n",
              "<table border=\"1\" class=\"dataframe\">\n",
              "  <thead>\n",
              "    <tr style=\"text-align: right;\">\n",
              "      <th></th>\n",
              "      <th>User ID</th>\n",
              "      <th>Gender</th>\n",
              "      <th>Age</th>\n",
              "      <th>EstimatedSalary</th>\n",
              "      <th>Purchased</th>\n",
              "    </tr>\n",
              "  </thead>\n",
              "  <tbody>\n",
              "    <tr>\n",
              "      <th>0</th>\n",
              "      <td>15624510</td>\n",
              "      <td>Male</td>\n",
              "      <td>19</td>\n",
              "      <td>19000</td>\n",
              "      <td>0</td>\n",
              "    </tr>\n",
              "    <tr>\n",
              "      <th>1</th>\n",
              "      <td>15810944</td>\n",
              "      <td>Male</td>\n",
              "      <td>35</td>\n",
              "      <td>20000</td>\n",
              "      <td>0</td>\n",
              "    </tr>\n",
              "    <tr>\n",
              "      <th>2</th>\n",
              "      <td>15668575</td>\n",
              "      <td>Female</td>\n",
              "      <td>26</td>\n",
              "      <td>43000</td>\n",
              "      <td>0</td>\n",
              "    </tr>\n",
              "    <tr>\n",
              "      <th>3</th>\n",
              "      <td>15603246</td>\n",
              "      <td>Female</td>\n",
              "      <td>27</td>\n",
              "      <td>57000</td>\n",
              "      <td>0</td>\n",
              "    </tr>\n",
              "    <tr>\n",
              "      <th>4</th>\n",
              "      <td>15804002</td>\n",
              "      <td>Male</td>\n",
              "      <td>19</td>\n",
              "      <td>76000</td>\n",
              "      <td>0</td>\n",
              "    </tr>\n",
              "  </tbody>\n",
              "</table>\n",
              "</div>\n",
              "      <button class=\"colab-df-convert\" onclick=\"convertToInteractive('df-f15359cf-b1ec-4a0c-9790-27daa363a5d8')\"\n",
              "              title=\"Convert this dataframe to an interactive table.\"\n",
              "              style=\"display:none;\">\n",
              "        \n",
              "  <svg xmlns=\"http://www.w3.org/2000/svg\" height=\"24px\"viewBox=\"0 0 24 24\"\n",
              "       width=\"24px\">\n",
              "    <path d=\"M0 0h24v24H0V0z\" fill=\"none\"/>\n",
              "    <path d=\"M18.56 5.44l.94 2.06.94-2.06 2.06-.94-2.06-.94-.94-2.06-.94 2.06-2.06.94zm-11 1L8.5 8.5l.94-2.06 2.06-.94-2.06-.94L8.5 2.5l-.94 2.06-2.06.94zm10 10l.94 2.06.94-2.06 2.06-.94-2.06-.94-.94-2.06-.94 2.06-2.06.94z\"/><path d=\"M17.41 7.96l-1.37-1.37c-.4-.4-.92-.59-1.43-.59-.52 0-1.04.2-1.43.59L10.3 9.45l-7.72 7.72c-.78.78-.78 2.05 0 2.83L4 21.41c.39.39.9.59 1.41.59.51 0 1.02-.2 1.41-.59l7.78-7.78 2.81-2.81c.8-.78.8-2.07 0-2.86zM5.41 20L4 18.59l7.72-7.72 1.47 1.35L5.41 20z\"/>\n",
              "  </svg>\n",
              "      </button>\n",
              "      \n",
              "  <style>\n",
              "    .colab-df-container {\n",
              "      display:flex;\n",
              "      flex-wrap:wrap;\n",
              "      gap: 12px;\n",
              "    }\n",
              "\n",
              "    .colab-df-convert {\n",
              "      background-color: #E8F0FE;\n",
              "      border: none;\n",
              "      border-radius: 50%;\n",
              "      cursor: pointer;\n",
              "      display: none;\n",
              "      fill: #1967D2;\n",
              "      height: 32px;\n",
              "      padding: 0 0 0 0;\n",
              "      width: 32px;\n",
              "    }\n",
              "\n",
              "    .colab-df-convert:hover {\n",
              "      background-color: #E2EBFA;\n",
              "      box-shadow: 0px 1px 2px rgba(60, 64, 67, 0.3), 0px 1px 3px 1px rgba(60, 64, 67, 0.15);\n",
              "      fill: #174EA6;\n",
              "    }\n",
              "\n",
              "    [theme=dark] .colab-df-convert {\n",
              "      background-color: #3B4455;\n",
              "      fill: #D2E3FC;\n",
              "    }\n",
              "\n",
              "    [theme=dark] .colab-df-convert:hover {\n",
              "      background-color: #434B5C;\n",
              "      box-shadow: 0px 1px 3px 1px rgba(0, 0, 0, 0.15);\n",
              "      filter: drop-shadow(0px 1px 2px rgba(0, 0, 0, 0.3));\n",
              "      fill: #FFFFFF;\n",
              "    }\n",
              "  </style>\n",
              "\n",
              "      <script>\n",
              "        const buttonEl =\n",
              "          document.querySelector('#df-f15359cf-b1ec-4a0c-9790-27daa363a5d8 button.colab-df-convert');\n",
              "        buttonEl.style.display =\n",
              "          google.colab.kernel.accessAllowed ? 'block' : 'none';\n",
              "\n",
              "        async function convertToInteractive(key) {\n",
              "          const element = document.querySelector('#df-f15359cf-b1ec-4a0c-9790-27daa363a5d8');\n",
              "          const dataTable =\n",
              "            await google.colab.kernel.invokeFunction('convertToInteractive',\n",
              "                                                     [key], {});\n",
              "          if (!dataTable) return;\n",
              "\n",
              "          const docLinkHtml = 'Like what you see? Visit the ' +\n",
              "            '<a target=\"_blank\" href=https://colab.research.google.com/notebooks/data_table.ipynb>data table notebook</a>'\n",
              "            + ' to learn more about interactive tables.';\n",
              "          element.innerHTML = '';\n",
              "          dataTable['output_type'] = 'display_data';\n",
              "          await google.colab.output.renderOutput(dataTable, element);\n",
              "          const docLink = document.createElement('div');\n",
              "          docLink.innerHTML = docLinkHtml;\n",
              "          element.appendChild(docLink);\n",
              "        }\n",
              "      </script>\n",
              "    </div>\n",
              "  </div>\n",
              "  "
            ]
          },
          "metadata": {},
          "execution_count": 3
        }
      ]
    },
    {
      "cell_type": "code",
      "source": [
        "df.isnull().sum()"
      ],
      "metadata": {
        "colab": {
          "base_uri": "https://localhost:8080/"
        },
        "id": "zoBergLxhblL",
        "outputId": "aa27276a-9d12-4c9e-c6fb-80c9f6fc06d5"
      },
      "execution_count": null,
      "outputs": [
        {
          "output_type": "execute_result",
          "data": {
            "text/plain": [
              "User ID            0\n",
              "Gender             0\n",
              "Age                0\n",
              "EstimatedSalary    0\n",
              "Purchased          0\n",
              "dtype: int64"
            ]
          },
          "metadata": {},
          "execution_count": 4
        }
      ]
    },
    {
      "cell_type": "markdown",
      "metadata": {
        "id": "GpelPvR4iSxv"
      },
      "source": [
        "**Splitting the dataset into the Training set and Test set**"
      ]
    },
    {
      "cell_type": "code",
      "metadata": {
        "id": "eROg-IDUh1JZ",
        "colab": {
          "base_uri": "https://localhost:8080/"
        },
        "outputId": "d9250b47-d77e-4c22-92fa-4d33ecaedc80"
      },
      "source": [
        "X=df.iloc[:,2:4]\n",
        "print(X.shape)\n",
        "y=df.iloc[:,-1].values\n",
        "print(y.shape)\n",
        "from sklearn.model_selection import train_test_split\n",
        "X_train,X_test,y_train,y_test=train_test_split(X,y,test_size=0.3,random_state=0)\n",
        "print(X_train.shape,y_train.shape,X_test.shape,y_test.shape)\n"
      ],
      "execution_count": null,
      "outputs": [
        {
          "output_type": "stream",
          "name": "stdout",
          "text": [
            "(400, 2)\n",
            "(400,)\n",
            "(280, 2) (280,) (120, 2) (120,)\n"
          ]
        }
      ]
    },
    {
      "cell_type": "markdown",
      "metadata": {
        "id": "cwBqfX6WiZOx"
      },
      "source": [
        "**Feature Scaling**"
      ]
    },
    {
      "cell_type": "code",
      "metadata": {
        "id": "yCcfuhv_h1Lw",
        "colab": {
          "base_uri": "https://localhost:8080/"
        },
        "outputId": "a02812cd-6f97-4242-b463-98cd3341f6c8"
      },
      "source": [
        "from sklearn.preprocessing import StandardScaler\n",
        "sc = StandardScaler()\n",
        "X_train = sc.fit_transform(X_train)\n",
        "X_test = sc.transform(X_test)\n",
        "print('X_train',X_train)\n",
        "print('X_test',X_test)"
      ],
      "execution_count": null,
      "outputs": [
        {
          "output_type": "stream",
          "name": "stdout",
          "text": [
            "X_train [[-1.1631724  -1.5849703 ]\n",
            " [ 2.17018137  0.93098672]\n",
            " [ 0.0133054   1.22017719]\n",
            " [ 0.20938504  1.07558195]\n",
            " [ 0.40546467 -0.48604654]\n",
            " [-0.28081405 -0.31253226]\n",
            " [ 0.99370357 -0.8330751 ]\n",
            " [ 0.99370357  1.8563962 ]\n",
            " [ 0.0133054   1.24909623]\n",
            " [-0.86905295  2.26126285]\n",
            " [-1.1631724  -1.5849703 ]\n",
            " [ 2.17018137 -0.80415605]\n",
            " [-1.35925203 -1.46929411]\n",
            " [ 0.40546467  2.2901819 ]\n",
            " [ 0.79762394  0.75747245]\n",
            " [-0.96709276 -0.31253226]\n",
            " [ 0.11134522  0.75747245]\n",
            " [-0.96709276  0.55503912]\n",
            " [ 0.30742485  0.06341534]\n",
            " [ 0.69958412 -1.26686079]\n",
            " [-0.47689368 -0.0233418 ]\n",
            " [-1.7514113   0.3526058 ]\n",
            " [-0.67297331  0.12125343]\n",
            " [ 0.40546467  0.29476771]\n",
            " [-0.28081405  0.06341534]\n",
            " [-0.47689368  2.2901819 ]\n",
            " [ 0.20938504  0.03449629]\n",
            " [ 1.28782302  2.20342476]\n",
            " [ 0.79762394  0.26584866]\n",
            " [-0.28081405  0.15017248]\n",
            " [ 0.0133054  -0.54388463]\n",
            " [-0.18277423  0.15017248]\n",
            " [-0.08473441  0.23692961]\n",
            " [ 0.0133054  -0.25469417]\n",
            " [ 2.17018137  1.104501  ]\n",
            " [-1.7514113   0.3526058 ]\n",
            " [ 1.87606192  0.12125343]\n",
            " [ 0.40546467 -0.13901799]\n",
            " [-1.1631724   0.29476771]\n",
            " [ 0.79762394  1.36477242]\n",
            " [-0.28081405 -0.25469417]\n",
            " [-1.65337148 -0.05226085]\n",
            " [-0.96709276 -0.74631796]\n",
            " [ 0.30742485  0.49720103]\n",
            " [-0.08473441 -1.06442747]\n",
            " [-1.06513258  0.58395817]\n",
            " [ 0.11134522 -0.80415605]\n",
            " [-0.96709276  1.53828669]\n",
            " [-0.67297331  1.39369146]\n",
            " [-1.26121221  0.49720103]\n",
            " [-0.28081405  0.03449629]\n",
            " [-0.08473441  0.00557724]\n",
            " [-0.28081405 -0.89091319]\n",
            " [ 0.89566375 -1.35361793]\n",
            " [-0.28081405  2.2323438 ]\n",
            " [ 0.99370357  1.97207239]\n",
            " [-1.1631724   0.46828198]\n",
            " [-1.26121221  0.26584866]\n",
            " [ 1.38586284  1.97207239]\n",
            " [ 1.28782302 -1.35361793]\n",
            " [-0.28081405 -0.28361322]\n",
            " [-0.47689368  1.24909623]\n",
            " [-0.77101313  1.07558195]\n",
            " [ 0.99370357 -1.06442747]\n",
            " [ 0.30742485  0.29476771]\n",
            " [ 0.99370357  0.75747245]\n",
            " [-0.67297331 -1.49821316]\n",
            " [-0.67297331  0.03449629]\n",
            " [ 0.50350449  1.71180097]\n",
            " [ 2.07214155  0.17909152]\n",
            " [-1.94749093 -0.74631796]\n",
            " [-0.18277423  1.39369146]\n",
            " [ 0.40546467  0.58395817]\n",
            " [ 0.89566375 -1.1511846 ]\n",
            " [-1.1631724  -0.775237  ]\n",
            " [ 0.20938504  0.23692961]\n",
            " [ 0.79762394 -0.31253226]\n",
            " [ 2.07214155 -0.80415605]\n",
            " [ 0.79762394  0.12125343]\n",
            " [-0.28081405  0.61287722]\n",
            " [-0.96709276 -0.31253226]\n",
            " [ 0.20938504 -0.37037036]\n",
            " [ 2.07214155  2.11666762]\n",
            " [ 1.87606192 -1.26686079]\n",
            " [ 1.38586284 -0.91983223]\n",
            " [ 0.89566375  1.24909623]\n",
            " [ 1.48390265  2.11666762]\n",
            " [-0.28081405 -1.23794174]\n",
            " [ 1.97410174  0.90206768]\n",
            " [ 0.69958412 -0.71739891]\n",
            " [-1.45729185  0.3526058 ]\n",
            " [ 0.79762394 -1.35361793]\n",
            " [ 0.40546467 -0.13901799]\n",
            " [-0.96709276  0.41044389]\n",
            " [ 0.0133054  -0.31253226]\n",
            " [-1.1631724   0.41044389]\n",
            " [-0.86905295 -1.2090227 ]\n",
            " [-0.08473441  0.03449629]\n",
            " [-1.55533166 -0.42820845]\n",
            " [ 0.99370357 -1.00658937]\n",
            " [ 1.09174339 -1.2090227 ]\n",
            " [ 0.0133054  -0.13901799]\n",
            " [-1.06513258 -1.52713221]\n",
            " [ 0.79762394 -1.2090227 ]\n",
            " [ 0.99370357  2.05882953]\n",
            " [-1.1631724  -1.52713221]\n",
            " [-0.28081405  0.78639149]\n",
            " [ 0.11134522 -0.31253226]\n",
            " [-1.35925203 -1.23794174]\n",
            " [-0.5749335  -1.49821316]\n",
            " [ 0.79762394  0.52612008]\n",
            " [-0.28081405 -0.34145131]\n",
            " [ 1.7780221  -0.28361322]\n",
            " [ 0.89566375 -1.03550842]\n",
            " [ 0.20938504  0.06341534]\n",
            " [-0.5749335   0.87314863]\n",
            " [-1.84945111 -1.41145602]\n",
            " [-1.26121221  0.58395817]\n",
            " [-0.28081405  0.52612008]\n",
            " [-0.96709276 -1.09334651]\n",
            " [ 1.1897832  -1.44037507]\n",
            " [ 0.20938504 -0.31253226]\n",
            " [ 1.1897832  -0.74631796]\n",
            " [-0.28081405  0.06341534]\n",
            " [ 0.20938504  2.08774857]\n",
            " [ 0.79762394 -1.09334651]\n",
            " [ 0.11134522  0.03449629]\n",
            " [-1.7514113   0.12125343]\n",
            " [-0.86905295  0.15017248]\n",
            " [-0.67297331  0.17909152]\n",
            " [ 0.89566375 -1.29577984]\n",
            " [ 0.20938504 -0.25469417]\n",
            " [-0.37885386  1.22017719]\n",
            " [ 0.0133054   0.29476771]\n",
            " [ 0.40546467  0.15017248]\n",
            " [ 0.89566375 -0.65956082]\n",
            " [ 0.11134522  0.15017248]\n",
            " [-1.84945111 -1.29577984]\n",
            " [-0.08473441  0.29476771]\n",
            " [-0.18277423 -0.28361322]\n",
            " [ 0.30742485 -0.51496559]\n",
            " [-0.18277423  1.59612479]\n",
            " [ 0.99370357 -1.18010365]\n",
            " [-0.18277423  1.62504383]\n",
            " [ 1.28782302  1.8563962 ]\n",
            " [-1.06513258 -0.37037036]\n",
            " [ 0.0133054   0.03449629]\n",
            " [ 0.11134522 -0.25469417]\n",
            " [-1.55533166 -1.23794174]\n",
            " [-0.47689368 -0.28361322]\n",
            " [ 0.99370357  0.12125343]\n",
            " [ 1.97410174 -1.35361793]\n",
            " [ 1.48390265  0.06341534]\n",
            " [-0.5749335   1.36477242]\n",
            " [ 1.58194247  0.00557724]\n",
            " [-0.77101313  0.29476771]\n",
            " [ 1.97410174  0.7285534 ]\n",
            " [-1.1631724  -0.51496559]\n",
            " [ 0.69958412  0.26584866]\n",
            " [-1.35925203 -0.42820845]\n",
            " [ 0.20938504  0.15017248]\n",
            " [-0.47689368 -1.2090227 ]\n",
            " [ 0.6015443   2.00099143]\n",
            " [-1.55533166 -1.49821316]\n",
            " [-0.47689368 -0.54388463]\n",
            " [ 0.50350449  1.82747716]\n",
            " [-1.35925203 -1.09334651]\n",
            " [ 0.79762394 -1.38253697]\n",
            " [-0.28081405 -0.42820845]\n",
            " [ 1.58194247  0.98882482]\n",
            " [ 0.99370357  1.42261051]\n",
            " [-0.28081405 -0.48604654]\n",
            " [-0.08473441  2.14558666]\n",
            " [-1.45729185 -0.11009894]\n",
            " [-0.08473441  1.94315334]\n",
            " [-0.67297331 -0.34145131]\n",
            " [-0.47689368 -0.8330751 ]\n",
            " [ 0.69958412 -1.38253697]\n",
            " [-0.77101313 -1.5849703 ]\n",
            " [-1.84945111 -1.46929411]\n",
            " [ 1.09174339  0.12125343]\n",
            " [ 0.11134522  1.50936765]\n",
            " [-0.28081405  0.09233438]\n",
            " [ 0.11134522  0.03449629]\n",
            " [-1.35925203 -1.35361793]\n",
            " [ 0.30742485  0.06341534]\n",
            " [-0.86905295  0.38152485]\n",
            " [ 1.58194247 -1.26686079]\n",
            " [-0.28081405 -0.74631796]\n",
            " [-0.08473441  0.15017248]\n",
            " [-0.86905295 -0.65956082]\n",
            " [-0.67297331 -0.05226085]\n",
            " [ 0.40546467 -0.45712749]\n",
            " [-0.77101313  1.88531525]\n",
            " [ 1.38586284  1.27801528]\n",
            " [ 1.1897832  -0.97767033]\n",
            " [ 1.7780221   1.82747716]\n",
            " [-0.86905295 -0.25469417]\n",
            " [-0.77101313  0.55503912]\n",
            " [-1.1631724  -1.55605125]\n",
            " [-0.47689368 -1.12226556]\n",
            " [ 0.30742485  0.06341534]\n",
            " [-0.18277423 -1.06442747]\n",
            " [ 1.67998229  1.59612479]\n",
            " [ 0.99370357  1.76963906]\n",
            " [ 0.30742485  0.03449629]\n",
            " [-0.77101313 -0.22577513]\n",
            " [-0.08473441  0.06341534]\n",
            " [ 0.30742485 -0.19685608]\n",
            " [ 1.97410174 -0.65956082]\n",
            " [-0.77101313  1.33585337]\n",
            " [-1.7514113  -0.60172273]\n",
            " [-0.08473441  0.12125343]\n",
            " [ 0.30742485 -0.31253226]\n",
            " [ 1.09174339  0.55503912]\n",
            " [-0.96709276  0.26584866]\n",
            " [ 1.48390265  0.3526058 ]\n",
            " [ 0.20938504 -0.37037036]\n",
            " [ 2.17018137 -1.03550842]\n",
            " [-0.28081405  1.104501  ]\n",
            " [-1.65337148  0.06341534]\n",
            " [ 0.0133054   0.03449629]\n",
            " [ 0.11134522  1.04666291]\n",
            " [-0.08473441 -0.37037036]\n",
            " [-1.1631724   0.06341534]\n",
            " [-0.28081405 -1.35361793]\n",
            " [ 1.58194247  1.104501  ]\n",
            " [-0.77101313 -1.52713221]\n",
            " [ 0.11134522  1.8563962 ]\n",
            " [-0.86905295 -0.775237  ]\n",
            " [-0.47689368 -0.775237  ]\n",
            " [-0.28081405 -0.91983223]\n",
            " [ 0.30742485 -0.71739891]\n",
            " [ 0.30742485  0.06341534]\n",
            " [ 0.11134522  1.8563962 ]\n",
            " [-1.06513258  1.94315334]\n",
            " [-1.65337148 -1.55605125]\n",
            " [-1.1631724  -1.09334651]\n",
            " [-0.67297331 -0.11009894]\n",
            " [ 0.11134522  0.09233438]\n",
            " [ 0.30742485  0.26584866]\n",
            " [ 0.89566375 -0.57280368]\n",
            " [ 0.30742485 -1.1511846 ]\n",
            " [-0.08473441  0.67071531]\n",
            " [ 2.17018137 -0.68847986]\n",
            " [-1.26121221 -1.38253697]\n",
            " [-0.96709276 -0.94875128]\n",
            " [ 0.0133054  -0.42820845]\n",
            " [-0.18277423 -0.45712749]\n",
            " [-1.7514113  -0.97767033]\n",
            " [ 1.7780221   0.98882482]\n",
            " [ 0.20938504 -0.37037036]\n",
            " [ 0.40546467  1.104501  ]\n",
            " [-1.7514113  -1.35361793]\n",
            " [ 0.20938504 -0.13901799]\n",
            " [ 0.89566375 -1.44037507]\n",
            " [-1.94749093  0.46828198]\n",
            " [-0.28081405  0.26584866]\n",
            " [ 1.87606192 -1.06442747]\n",
            " [-0.37885386  0.06341534]\n",
            " [ 1.09174339 -0.89091319]\n",
            " [-1.06513258 -1.12226556]\n",
            " [-1.84945111  0.00557724]\n",
            " [ 0.11134522  0.26584866]\n",
            " [-1.1631724   0.32368675]\n",
            " [-1.26121221  0.29476771]\n",
            " [-0.96709276  0.43936294]\n",
            " [ 1.67998229 -0.89091319]\n",
            " [ 1.1897832   0.52612008]\n",
            " [ 1.09174339  0.52612008]\n",
            " [ 1.38586284  2.31910094]\n",
            " [-0.28081405 -0.13901799]\n",
            " [ 0.40546467 -0.45712749]\n",
            " [-0.37885386 -0.775237  ]\n",
            " [-0.08473441 -0.51496559]\n",
            " [ 0.99370357 -1.1511846 ]\n",
            " [-0.86905295 -0.775237  ]\n",
            " [-0.18277423 -0.51496559]\n",
            " [-1.06513258 -0.45712749]\n",
            " [-1.1631724   1.39369146]]\n",
            "X_test [[-0.77101313  0.49720103]\n",
            " [ 0.0133054  -0.57280368]\n",
            " [-0.28081405  0.15017248]\n",
            " [-0.77101313  0.26584866]\n",
            " [-0.28081405 -0.57280368]\n",
            " [-1.06513258 -1.44037507]\n",
            " [-0.67297331 -1.5849703 ]\n",
            " [-0.18277423  2.14558666]\n",
            " [-1.94749093 -0.05226085]\n",
            " [ 0.89566375 -0.775237  ]\n",
            " [-0.77101313 -0.60172273]\n",
            " [-0.96709276 -0.42820845]\n",
            " [-0.08473441 -0.42820845]\n",
            " [ 0.11134522  0.20801057]\n",
            " [-1.7514113   0.46828198]\n",
            " [-0.5749335   1.36477242]\n",
            " [-0.08473441  0.20801057]\n",
            " [-1.84945111  0.43936294]\n",
            " [ 1.67998229  1.74072002]\n",
            " [-0.28081405 -1.38253697]\n",
            " [-0.28081405 -0.65956082]\n",
            " [ 0.89566375  2.14558666]\n",
            " [ 0.30742485 -0.54388463]\n",
            " [ 0.89566375  1.01774386]\n",
            " [-1.45729185 -1.2090227 ]\n",
            " [ 1.09174339  2.05882953]\n",
            " [-0.96709276  0.49720103]\n",
            " [-0.86905295  0.29476771]\n",
            " [-0.08473441 -0.22577513]\n",
            " [-0.5749335   0.46828198]\n",
            " [-1.65337148  0.52612008]\n",
            " [-0.08473441  0.26584866]\n",
            " [ 1.87606192 -0.28361322]\n",
            " [-0.08473441 -0.48604654]\n",
            " [-1.35925203 -0.34145131]\n",
            " [-1.94749093 -0.51496559]\n",
            " [-1.55533166  0.32368675]\n",
            " [-0.37885386 -0.775237  ]\n",
            " [-0.67297331 -1.03550842]\n",
            " [ 1.09174339 -0.97767033]\n",
            " [-1.06513258  0.52612008]\n",
            " [ 0.30742485 -0.51496559]\n",
            " [-1.06513258  0.41044389]\n",
            " [-0.28081405 -1.44037507]\n",
            " [ 0.50350449  1.22017719]\n",
            " [-1.06513258 -0.34145131]\n",
            " [-0.08473441  0.29476771]\n",
            " [ 1.38586284  0.58395817]\n",
            " [-1.1631724  -1.1511846 ]\n",
            " [ 1.09174339  0.46828198]\n",
            " [ 1.87606192  1.50936765]\n",
            " [-0.37885386 -1.29577984]\n",
            " [-0.28081405 -0.37037036]\n",
            " [-0.37885386  1.30693432]\n",
            " [ 2.07214155  0.52612008]\n",
            " [ 0.69958412 -1.09334651]\n",
            " [-0.86905295  0.38152485]\n",
            " [-1.1631724   0.29476771]\n",
            " [ 1.09174339 -1.2090227 ]\n",
            " [-1.45729185 -1.44037507]\n",
            " [-0.5749335  -1.49821316]\n",
            " [ 2.17018137 -0.80415605]\n",
            " [-1.84945111  0.17909152]\n",
            " [-0.18277423  0.84422958]\n",
            " [-1.84945111 -1.26686079]\n",
            " [ 2.17018137  0.38152485]\n",
            " [-1.35925203  0.55503912]\n",
            " [-1.06513258 -0.34145131]\n",
            " [ 0.20938504 -0.65956082]\n",
            " [ 0.40546467  0.00557724]\n",
            " [-0.5749335   2.31910094]\n",
            " [-0.28081405  0.20801057]\n",
            " [-1.55533166 -0.19685608]\n",
            " [ 0.69958412 -1.38253697]\n",
            " [-1.06513258  0.55503912]\n",
            " [-1.94749093  0.3526058 ]\n",
            " [ 0.40546467  0.26584866]\n",
            " [ 0.20938504 -0.28361322]\n",
            " [ 1.48390265 -1.03550842]\n",
            " [ 0.89566375  1.07558195]\n",
            " [ 1.97410174  2.14558666]\n",
            " [ 2.07214155  0.38152485]\n",
            " [-1.35925203 -0.42820845]\n",
            " [-1.1631724  -1.00658937]\n",
            " [ 1.97410174 -0.91983223]\n",
            " [ 0.40546467  0.29476771]\n",
            " [ 0.20938504  0.15017248]\n",
            " [ 2.07214155  1.74072002]\n",
            " [ 0.79762394 -0.8330751 ]\n",
            " [ 0.30742485 -0.28361322]\n",
            " [ 0.40546467 -0.16793703]\n",
            " [-0.08473441  2.20342476]\n",
            " [-1.45729185 -0.63064177]\n",
            " [-1.26121221 -1.06442747]\n",
            " [-1.35925203  0.41044389]\n",
            " [-1.06513258  0.75747245]\n",
            " [-1.45729185 -0.19685608]\n",
            " [ 0.99370357 -1.06442747]\n",
            " [ 0.99370357  0.58395817]\n",
            " [ 0.40546467  0.98882482]\n",
            " [ 0.6015443  -0.89091319]\n",
            " [-0.5749335   1.45152956]\n",
            " [ 0.0133054  -0.57280368]\n",
            " [-0.5749335   1.88531525]\n",
            " [ 1.38586284 -1.41145602]\n",
            " [ 1.48390265  0.98882482]\n",
            " [ 0.11134522 -0.80415605]\n",
            " [ 0.0133054  -0.25469417]\n",
            " [-0.18277423 -0.57280368]\n",
            " [-0.18277423 -0.19685608]\n",
            " [-0.28081405 -1.29577984]\n",
            " [-0.28081405 -0.57280368]\n",
            " [ 0.40546467  0.09233438]\n",
            " [ 0.89566375 -0.60172273]\n",
            " [ 2.07214155 -1.18010365]\n",
            " [ 1.09174339 -0.13901799]\n",
            " [ 0.69958412  1.76963906]\n",
            " [-0.67297331  0.55503912]\n",
            " [ 0.79762394  0.3526058 ]\n",
            " [ 0.89566375 -0.54388463]]\n"
          ]
        }
      ]
    },
    {
      "cell_type": "markdown",
      "metadata": {
        "id": "OUGszSAKinhN"
      },
      "source": [
        "**Fitting SVM to the Training set**"
      ]
    },
    {
      "cell_type": "code",
      "metadata": {
        "id": "FLIzMPkOh1Ob",
        "colab": {
          "base_uri": "https://localhost:8080/"
        },
        "outputId": "832c4c9a-986a-4848-f6a0-25b8e8b63d58"
      },
      "source": [
        "from sklearn.svm import SVC\n",
        "classifier = SVC(kernel = 'linear', random_state = 0,probability=True)\n",
        "classifier.fit(X_train, y_train)"
      ],
      "execution_count": null,
      "outputs": [
        {
          "output_type": "execute_result",
          "data": {
            "text/plain": [
              "SVC(kernel='linear', probability=True, random_state=0)"
            ]
          },
          "metadata": {},
          "execution_count": 7
        }
      ]
    },
    {
      "cell_type": "markdown",
      "metadata": {
        "id": "aW3yFyofiqtE"
      },
      "source": [
        "**Predicting the Test set results**"
      ]
    },
    {
      "cell_type": "code",
      "metadata": {
        "id": "aG_OGjavh1Q4",
        "colab": {
          "base_uri": "https://localhost:8080/"
        },
        "outputId": "47d1834f-ebaa-473a-cbc8-99ee68292f34"
      },
      "source": [
        "y_pred = classifier.predict(X_test)\n",
        "y_pred"
      ],
      "execution_count": null,
      "outputs": [
        {
          "output_type": "execute_result",
          "data": {
            "text/plain": [
              "array([0, 0, 0, 0, 0, 0, 0, 1, 0, 0, 0, 0, 0, 0, 0, 0, 0, 0, 1, 0, 0, 1,\n",
              "       0, 1, 0, 1, 0, 0, 0, 0, 0, 0, 1, 0, 0, 0, 0, 0, 0, 0, 0, 0, 0, 0,\n",
              "       1, 0, 0, 1, 0, 1, 1, 0, 0, 0, 1, 0, 0, 0, 0, 0, 0, 1, 0, 0, 0, 1,\n",
              "       0, 0, 0, 0, 1, 0, 0, 0, 0, 0, 1, 0, 1, 1, 1, 1, 0, 0, 1, 1, 0, 1,\n",
              "       0, 0, 0, 1, 0, 0, 0, 0, 0, 0, 1, 1, 0, 0, 0, 0, 1, 1, 0, 0, 0, 0,\n",
              "       0, 0, 0, 1, 1, 1, 1, 0, 1, 1])"
            ]
          },
          "metadata": {},
          "execution_count": 8
        }
      ]
    },
    {
      "cell_type": "markdown",
      "metadata": {
        "id": "4Kfn-chPi4Ts"
      },
      "source": [
        "**Making the Confusion Matrix**"
      ]
    },
    {
      "cell_type": "code",
      "metadata": {
        "id": "G7VPRN2Ah1Tm",
        "colab": {
          "base_uri": "https://localhost:8080/"
        },
        "outputId": "12b501a0-8f65-4dcc-c545-d574e74dad74"
      },
      "source": [
        "from sklearn.metrics import confusion_matrix, accuracy_score\n",
        "print(confusion_matrix(y_test, y_pred))\n",
        "print(accuracy_score(y_test,y_pred))"
      ],
      "execution_count": null,
      "outputs": [
        {
          "output_type": "stream",
          "name": "stdout",
          "text": [
            "[[75  4]\n",
            " [12 29]]\n",
            "0.8666666666666667\n"
          ]
        }
      ]
    },
    {
      "cell_type": "code",
      "metadata": {
        "id": "YzMdeL7FjHnn",
        "colab": {
          "base_uri": "https://localhost:8080/"
        },
        "outputId": "c7084fbd-01df-48ad-e426-cb5bcd984c1c"
      },
      "source": [
        "from sklearn.metrics import precision_score\n",
        "print(\"Precision: {0}\".format(precision_score(y_test, classifier.predict(X_test))))\n",
        "from sklearn.metrics import recall_score\n",
        "print(\"Recall:\", round(recall_score(y_test, classifier.predict(X_test)), 2))\n",
        "from sklearn.metrics import roc_auc_score,accuracy_score\n",
        "print('auroc',roc_auc_score(y_test, classifier.predict_proba(X_test)[:,1]))\n",
        "print(\"Accuracy:\",accuracy_score(y_test, y_pred))"
      ],
      "execution_count": null,
      "outputs": [
        {
          "output_type": "stream",
          "name": "stdout",
          "text": [
            "Precision: 0.8787878787878788\n",
            "Recall: 0.71\n",
            "auroc 0.9478234022846558\n",
            "Accuracy: 0.8666666666666667\n"
          ]
        }
      ]
    },
    {
      "cell_type": "markdown",
      "metadata": {
        "id": "7Fo3I-pKi7JQ"
      },
      "source": [
        "**Visualising the Training set results**"
      ]
    },
    {
      "cell_type": "code",
      "metadata": {
        "id": "hI3xXh_oh1XK",
        "colab": {
          "base_uri": "https://localhost:8080/",
          "height": 350
        },
        "outputId": "1d100e3c-78ac-4d4f-aafe-c1e0c1f9a570"
      },
      "source": [
        "from matplotlib.colors import ListedColormap\n",
        "X_set, y_set = X_train, y_train\n",
        "X1, X2 = np.meshgrid(np.arange(start = X_set[:, 0].min() - 1, stop = X_set[:, 0].max() + 1, step = 0.01),\n",
        "                     np.arange(start = X_set[:, 1].min() - 1, stop = X_set[:, 1].max() + 1, step = 0.01))\n",
        "plt.contourf(X1, X2, classifier.predict(np.array([X1.ravel(), X2.ravel()]).T).reshape(X1.shape),\n",
        "             alpha = 0.75, cmap = ListedColormap(('red', 'green')))\n",
        "plt.xlim(X1.min(), X1.max())\n",
        "plt.ylim(X2.min(), X2.max())\n",
        "for i, j in enumerate(np.unique(y_set)):\n",
        "    plt.scatter(X_set[y_set == j, 0], X_set[y_set == j, 1],\n",
        "                c = ListedColormap(('red', 'green'))(i), label = j)\n",
        "plt.title('SVM (Training set)')\n",
        "plt.xlabel('Age')\n",
        "plt.ylabel('Estimated Salary')\n",
        "plt.legend()\n",
        "plt.show()"
      ],
      "execution_count": null,
      "outputs": [
        {
          "output_type": "stream",
          "name": "stderr",
          "text": [
            "*c* argument looks like a single numeric RGB or RGBA sequence, which should be avoided as value-mapping will have precedence in case its length matches with *x* & *y*.  Please use the *color* keyword-argument or provide a 2-D array with a single row if you intend to specify the same RGB or RGBA value for all points.\n",
            "*c* argument looks like a single numeric RGB or RGBA sequence, which should be avoided as value-mapping will have precedence in case its length matches with *x* & *y*.  Please use the *color* keyword-argument or provide a 2-D array with a single row if you intend to specify the same RGB or RGBA value for all points.\n"
          ]
        },
        {
          "output_type": "display_data",
          "data": {
            "text/plain": [
              "<Figure size 432x288 with 1 Axes>"
            ],
            "image/png": "[encoded data removed]"
          },
          "metadata": {
            "needs_background": "light"
          }
        }
      ]
    },
    {
      "cell_type": "markdown",
      "metadata": {
        "id": "FudAc9-6jSS9"
      },
      "source": [
        "**Visualising the Test set results**"
      ]
    },
    {
      "cell_type": "code",
      "metadata": {
        "id": "Q3aQCPffjHqj",
        "colab": {
          "base_uri": "https://localhost:8080/",
          "height": 350
        },
        "outputId": "6c7864d8-249d-4ca4-818f-672e8e717426"
      },
      "source": [
        "from matplotlib.colors import ListedColormap\n",
        "X_set, y_set = X_test, y_test\n",
        "X1, X2 = np.meshgrid(np.arange(start = X_set[:, 0].min() - 1, stop = X_set[:, 0].max() + 1, step = 0.01),\n",
        "                     np.arange(start = X_set[:, 1].min() - 1, stop = X_set[:, 1].max() + 1, step = 0.01))\n",
        "plt.contourf(X1, X2, classifier.predict(np.array([X1.ravel(), X2.ravel()]).T).reshape(X1.shape),\n",
        "             alpha = 0.75, cmap = ListedColormap(('red', 'green')))\n",
        "plt.xlim(X1.min(), X1.max())\n",
        "plt.ylim(X2.min(), X2.max())\n",
        "for i, j in enumerate(np.unique(y_set)):\n",
        "    plt.scatter(X_set[y_set == j, 0], X_set[y_set == j, 1],\n",
        "                c = ListedColormap(('red', 'green'))(i), label = j)\n",
        "plt.title('SVM (Test set)')\n",
        "plt.xlabel('Age')\n",
        "plt.ylabel('Estimated Salary')\n",
        "plt.legend()\n",
        "plt.show()"
      ],
      "execution_count": null,
      "outputs": [
        {
          "output_type": "stream",
          "name": "stderr",
          "text": [
            "*c* argument looks like a single numeric RGB or RGBA sequence, which should be avoided as value-mapping will have precedence in case its length matches with *x* & *y*.  Please use the *color* keyword-argument or provide a 2-D array with a single row if you intend to specify the same RGB or RGBA value for all points.\n",
            "*c* argument looks like a single numeric RGB or RGBA sequence, which should be avoided as value-mapping will have precedence in case its length matches with *x* & *y*.  Please use the *color* keyword-argument or provide a 2-D array with a single row if you intend to specify the same RGB or RGBA value for all points.\n"
          ]
        },
        {
          "output_type": "display_data",
          "data": {
            "text/plain": [
              "<Figure size 432x288 with 1 Axes>"
            ],
            "image/png": "[encoded data removed]"
          },
          "metadata": {
            "needs_background": "light"
          }
        }
      ]
    }
  ]
}